{
 "cells": [
  {
   "cell_type": "code",
   "execution_count": 1,
   "id": "dangerous-trash",
   "metadata": {},
   "outputs": [],
   "source": [
    "import os\n",
    "import zipfile\n",
    "import numpy as np\n",
    "import pandas as pd\n",
    "import matplotlib.pyplot as plt\n",
    "import seaborn as sns "
   ]
  },
  {
   "cell_type": "code",
   "execution_count": 2,
   "id": "posted-digit",
   "metadata": {},
   "outputs": [],
   "source": [
    "dotzip =  \"vertebral_column_data.zip\"\n",
    "dst = \"data\""
   ]
  },
  {
   "cell_type": "code",
   "execution_count": 7,
   "id": "small-tenant",
   "metadata": {},
   "outputs": [],
   "source": [
    "with zipfile.ZipFile(dotzip, 'r') as zip_ref:\n",
    "    zip_ref.extractall(dst)"
   ]
  },
  {
   "cell_type": "code",
   "execution_count": 43,
   "id": "color-majority",
   "metadata": {},
   "outputs": [],
   "source": [
    "col= ['pelvic_incidence', 'pelvic_tilt numeric', 'lumbar_lordosis_angle', 'sacral_slope', 'pelvic_radius','degree_spondylolisthesis', 'class']\n",
    "df = pd.read_csv('data/column_3C.dat', sep=' ', header=None,  skipinitialspace=True)"
   ]
  },
  {
   "cell_type": "code",
   "execution_count": 44,
   "id": "dense-thought",
   "metadata": {},
   "outputs": [],
   "source": [
    "df.columns = col"
   ]
  },
  {
   "cell_type": "markdown",
   "id": "collected-roommate",
   "metadata": {
    "tags": []
   },
   "source": [
    "### EDA\n",
    "En una vista rápida del data set podemos observar que las columnas poseen nombres claros y la columna class se refiere al target, las features son todas númericas  y la columna target es de tipo objeto\n"
   ]
  },
  {
   "cell_type": "code",
   "execution_count": 45,
   "id": "later-sentence",
   "metadata": {},
   "outputs": [
    {
     "data": {
      "text/html": [
       "<div>\n",
       "<style scoped>\n",
       "    .dataframe tbody tr th:only-of-type {\n",
       "        vertical-align: middle;\n",
       "    }\n",
       "\n",
       "    .dataframe tbody tr th {\n",
       "        vertical-align: top;\n",
       "    }\n",
       "\n",
       "    .dataframe thead th {\n",
       "        text-align: right;\n",
       "    }\n",
       "</style>\n",
       "<table border=\"1\" class=\"dataframe\">\n",
       "  <thead>\n",
       "    <tr style=\"text-align: right;\">\n",
       "      <th></th>\n",
       "      <th>pelvic_incidence</th>\n",
       "      <th>pelvic_tilt numeric</th>\n",
       "      <th>lumbar_lordosis_angle</th>\n",
       "      <th>sacral_slope</th>\n",
       "      <th>pelvic_radius</th>\n",
       "      <th>degree_spondylolisthesis</th>\n",
       "      <th>class</th>\n",
       "    </tr>\n",
       "  </thead>\n",
       "  <tbody>\n",
       "    <tr>\n",
       "      <th>0</th>\n",
       "      <td>63.03</td>\n",
       "      <td>22.55</td>\n",
       "      <td>39.61</td>\n",
       "      <td>40.48</td>\n",
       "      <td>98.67</td>\n",
       "      <td>-0.25</td>\n",
       "      <td>DH</td>\n",
       "    </tr>\n",
       "    <tr>\n",
       "      <th>1</th>\n",
       "      <td>39.06</td>\n",
       "      <td>10.06</td>\n",
       "      <td>25.02</td>\n",
       "      <td>29.00</td>\n",
       "      <td>114.41</td>\n",
       "      <td>4.56</td>\n",
       "      <td>DH</td>\n",
       "    </tr>\n",
       "    <tr>\n",
       "      <th>2</th>\n",
       "      <td>68.83</td>\n",
       "      <td>22.22</td>\n",
       "      <td>50.09</td>\n",
       "      <td>46.61</td>\n",
       "      <td>105.99</td>\n",
       "      <td>-3.53</td>\n",
       "      <td>DH</td>\n",
       "    </tr>\n",
       "    <tr>\n",
       "      <th>3</th>\n",
       "      <td>69.30</td>\n",
       "      <td>24.65</td>\n",
       "      <td>44.31</td>\n",
       "      <td>44.64</td>\n",
       "      <td>101.87</td>\n",
       "      <td>11.21</td>\n",
       "      <td>DH</td>\n",
       "    </tr>\n",
       "    <tr>\n",
       "      <th>4</th>\n",
       "      <td>49.71</td>\n",
       "      <td>9.65</td>\n",
       "      <td>28.32</td>\n",
       "      <td>40.06</td>\n",
       "      <td>108.17</td>\n",
       "      <td>7.92</td>\n",
       "      <td>DH</td>\n",
       "    </tr>\n",
       "  </tbody>\n",
       "</table>\n",
       "</div>"
      ],
      "text/plain": [
       "   pelvic_incidence  pelvic_tilt numeric  lumbar_lordosis_angle  sacral_slope  \\\n",
       "0             63.03                22.55                  39.61         40.48   \n",
       "1             39.06                10.06                  25.02         29.00   \n",
       "2             68.83                22.22                  50.09         46.61   \n",
       "3             69.30                24.65                  44.31         44.64   \n",
       "4             49.71                 9.65                  28.32         40.06   \n",
       "\n",
       "   pelvic_radius  degree_spondylolisthesis class  \n",
       "0          98.67                     -0.25    DH  \n",
       "1         114.41                      4.56    DH  \n",
       "2         105.99                     -3.53    DH  \n",
       "3         101.87                     11.21    DH  \n",
       "4         108.17                      7.92    DH  "
      ]
     },
     "execution_count": 45,
     "metadata": {},
     "output_type": "execute_result"
    }
   ],
   "source": [
    "df.head()"
   ]
  },
  {
   "cell_type": "code",
   "execution_count": 46,
   "id": "spiritual-interim",
   "metadata": {},
   "outputs": [
    {
     "name": "stdout",
     "output_type": "stream",
     "text": [
      "<class 'pandas.core.frame.DataFrame'>\n",
      "RangeIndex: 310 entries, 0 to 309\n",
      "Data columns (total 7 columns):\n",
      " #   Column                    Non-Null Count  Dtype  \n",
      "---  ------                    --------------  -----  \n",
      " 0   pelvic_incidence          310 non-null    float64\n",
      " 1   pelvic_tilt numeric       310 non-null    float64\n",
      " 2   lumbar_lordosis_angle     310 non-null    float64\n",
      " 3   sacral_slope              310 non-null    float64\n",
      " 4   pelvic_radius             310 non-null    float64\n",
      " 5   degree_spondylolisthesis  310 non-null    float64\n",
      " 6   class                     310 non-null    object \n",
      "dtypes: float64(6), object(1)\n",
      "memory usage: 17.1+ KB\n"
     ]
    }
   ],
   "source": [
    "df.info()"
   ]
  },
  {
   "cell_type": "code",
   "execution_count": 47,
   "id": "juvenile-vaccine",
   "metadata": {},
   "outputs": [
    {
     "data": {
      "text/html": [
       "<div>\n",
       "<style scoped>\n",
       "    .dataframe tbody tr th:only-of-type {\n",
       "        vertical-align: middle;\n",
       "    }\n",
       "\n",
       "    .dataframe tbody tr th {\n",
       "        vertical-align: top;\n",
       "    }\n",
       "\n",
       "    .dataframe thead th {\n",
       "        text-align: right;\n",
       "    }\n",
       "</style>\n",
       "<table border=\"1\" class=\"dataframe\">\n",
       "  <thead>\n",
       "    <tr style=\"text-align: right;\">\n",
       "      <th></th>\n",
       "      <th>pelvic_incidence</th>\n",
       "      <th>pelvic_tilt numeric</th>\n",
       "      <th>lumbar_lordosis_angle</th>\n",
       "      <th>sacral_slope</th>\n",
       "      <th>pelvic_radius</th>\n",
       "      <th>degree_spondylolisthesis</th>\n",
       "    </tr>\n",
       "  </thead>\n",
       "  <tbody>\n",
       "    <tr>\n",
       "      <th>count</th>\n",
       "      <td>310.000000</td>\n",
       "      <td>310.000000</td>\n",
       "      <td>310.000000</td>\n",
       "      <td>310.000000</td>\n",
       "      <td>310.000000</td>\n",
       "      <td>310.000000</td>\n",
       "    </tr>\n",
       "    <tr>\n",
       "      <th>mean</th>\n",
       "      <td>60.496484</td>\n",
       "      <td>17.542903</td>\n",
       "      <td>51.930710</td>\n",
       "      <td>42.953871</td>\n",
       "      <td>117.920548</td>\n",
       "      <td>26.296742</td>\n",
       "    </tr>\n",
       "    <tr>\n",
       "      <th>std</th>\n",
       "      <td>17.236109</td>\n",
       "      <td>10.008140</td>\n",
       "      <td>18.553766</td>\n",
       "      <td>13.422748</td>\n",
       "      <td>13.317629</td>\n",
       "      <td>37.558883</td>\n",
       "    </tr>\n",
       "    <tr>\n",
       "      <th>min</th>\n",
       "      <td>26.150000</td>\n",
       "      <td>-6.550000</td>\n",
       "      <td>14.000000</td>\n",
       "      <td>13.370000</td>\n",
       "      <td>70.080000</td>\n",
       "      <td>-11.060000</td>\n",
       "    </tr>\n",
       "    <tr>\n",
       "      <th>25%</th>\n",
       "      <td>46.432500</td>\n",
       "      <td>10.667500</td>\n",
       "      <td>37.000000</td>\n",
       "      <td>33.347500</td>\n",
       "      <td>110.710000</td>\n",
       "      <td>1.600000</td>\n",
       "    </tr>\n",
       "    <tr>\n",
       "      <th>50%</th>\n",
       "      <td>58.690000</td>\n",
       "      <td>16.360000</td>\n",
       "      <td>49.565000</td>\n",
       "      <td>42.405000</td>\n",
       "      <td>118.265000</td>\n",
       "      <td>11.765000</td>\n",
       "    </tr>\n",
       "    <tr>\n",
       "      <th>75%</th>\n",
       "      <td>72.880000</td>\n",
       "      <td>22.120000</td>\n",
       "      <td>63.000000</td>\n",
       "      <td>52.692500</td>\n",
       "      <td>125.467500</td>\n",
       "      <td>41.285000</td>\n",
       "    </tr>\n",
       "    <tr>\n",
       "      <th>max</th>\n",
       "      <td>129.830000</td>\n",
       "      <td>49.430000</td>\n",
       "      <td>125.740000</td>\n",
       "      <td>121.430000</td>\n",
       "      <td>163.070000</td>\n",
       "      <td>418.540000</td>\n",
       "    </tr>\n",
       "  </tbody>\n",
       "</table>\n",
       "</div>"
      ],
      "text/plain": [
       "       pelvic_incidence  pelvic_tilt numeric  lumbar_lordosis_angle  \\\n",
       "count        310.000000           310.000000             310.000000   \n",
       "mean          60.496484            17.542903              51.930710   \n",
       "std           17.236109            10.008140              18.553766   \n",
       "min           26.150000            -6.550000              14.000000   \n",
       "25%           46.432500            10.667500              37.000000   \n",
       "50%           58.690000            16.360000              49.565000   \n",
       "75%           72.880000            22.120000              63.000000   \n",
       "max          129.830000            49.430000             125.740000   \n",
       "\n",
       "       sacral_slope  pelvic_radius  degree_spondylolisthesis  \n",
       "count    310.000000     310.000000                310.000000  \n",
       "mean      42.953871     117.920548                 26.296742  \n",
       "std       13.422748      13.317629                 37.558883  \n",
       "min       13.370000      70.080000                -11.060000  \n",
       "25%       33.347500     110.710000                  1.600000  \n",
       "50%       42.405000     118.265000                 11.765000  \n",
       "75%       52.692500     125.467500                 41.285000  \n",
       "max      121.430000     163.070000                418.540000  "
      ]
     },
     "execution_count": 47,
     "metadata": {},
     "output_type": "execute_result"
    }
   ],
   "source": [
    "df.describe()"
   ]
  },
  {
   "cell_type": "markdown",
   "id": "breathing-singles",
   "metadata": {},
   "source": [
    "La última tabla muestra unas estadistísticas rápida de las columnas de las cuales podemos observar que:\n",
    "q"
   ]
  },
  {
   "cell_type": "code",
   "execution_count": 48,
   "id": "adjacent-eligibility",
   "metadata": {},
   "outputs": [
    {
     "data": {
      "image/png": "[encoded data removed]",
      "text/plain": [
       "<Figure size 432x288 with 1 Axes>"
      ]
     },
     "metadata": {
      "needs_background": "light"
     },
     "output_type": "display_data"
    }
   ],
   "source": [
    "fig = plt.figure()\n",
    "ax = fig.add_axes([0,0,1,1])\n",
    "X = list(df['class'].unique())\n",
    "y = list(df['class'].value_counts())\n",
    "ax.bar(X, y)\n",
    "plt.title(\"Frequency value\")\n",
    "plt.show()"
   ]
  },
  {
   "cell_type": "code",
   "execution_count": 49,
   "id": "burning-worse",
   "metadata": {},
   "outputs": [
    {
     "data": {
      "image/png": "[encoded data removed]",
      "text/plain": [
       "<Figure size 1152x1440 with 6 Axes>"
      ]
     },
     "metadata": {
      "needs_background": "light"
     },
     "output_type": "display_data"
    }
   ],
   "source": [
    "features = df.select_dtypes(include=['float64', 'int64'])\n",
    "features.hist(figsize=(16, 20), bins = 50, xlabelsize=8, ylabelsize=8)\n",
    "plt.show()"
   ]
  },
  {
   "cell_type": "code",
   "execution_count": 50,
   "id": "differential-jonathan",
   "metadata": {},
   "outputs": [],
   "source": [
    "dummies = pd.get_dummies(df['class'])\n",
    "df_new = pd.concat([df, dummies], axis=1)"
   ]
  },
  {
   "cell_type": "code",
   "execution_count": 51,
   "id": "lonely-salvation",
   "metadata": {},
   "outputs": [],
   "source": [
    "del df_new['class']"
   ]
  },
  {
   "cell_type": "code",
   "execution_count": 52,
   "id": "strong-variable",
   "metadata": {},
   "outputs": [],
   "source": [
    "df_corr  = df_new.corr()[['DH','NO','SL']][:-3]"
   ]
  },
  {
   "cell_type": "code",
   "execution_count": 53,
   "id": "individual-annex",
   "metadata": {},
   "outputs": [
    {
     "data": {
      "text/html": [
       "<div>\n",
       "<style scoped>\n",
       "    .dataframe tbody tr th:only-of-type {\n",
       "        vertical-align: middle;\n",
       "    }\n",
       "\n",
       "    .dataframe tbody tr th {\n",
       "        vertical-align: top;\n",
       "    }\n",
       "\n",
       "    .dataframe thead th {\n",
       "        text-align: right;\n",
       "    }\n",
       "</style>\n",
       "<table border=\"1\" class=\"dataframe\">\n",
       "  <thead>\n",
       "    <tr style=\"text-align: right;\">\n",
       "      <th></th>\n",
       "      <th>DH</th>\n",
       "      <th>NO</th>\n",
       "      <th>SL</th>\n",
       "    </tr>\n",
       "  </thead>\n",
       "  <tbody>\n",
       "    <tr>\n",
       "      <th>pelvic_incidence</th>\n",
       "      <td>-0.366055</td>\n",
       "      <td>-0.353323</td>\n",
       "      <td>0.619896</td>\n",
       "    </tr>\n",
       "    <tr>\n",
       "      <th>pelvic_tilt numeric</th>\n",
       "      <td>-0.007072</td>\n",
       "      <td>-0.326048</td>\n",
       "      <td>0.310581</td>\n",
       "    </tr>\n",
       "    <tr>\n",
       "      <th>lumbar_lordosis_angle</th>\n",
       "      <td>-0.435507</td>\n",
       "      <td>-0.312492</td>\n",
       "      <td>0.636608</td>\n",
       "    </tr>\n",
       "    <tr>\n",
       "      <th>sacral_slope</th>\n",
       "      <td>-0.464776</td>\n",
       "      <td>-0.210611</td>\n",
       "      <td>0.564446</td>\n",
       "    </tr>\n",
       "    <tr>\n",
       "      <th>pelvic_radius</th>\n",
       "      <td>-0.053261</td>\n",
       "      <td>0.309875</td>\n",
       "      <td>-0.247755</td>\n",
       "    </tr>\n",
       "    <tr>\n",
       "      <th>degree_spondylolisthesis</th>\n",
       "      <td>-0.311164</td>\n",
       "      <td>-0.443682</td>\n",
       "      <td>0.661023</td>\n",
       "    </tr>\n",
       "  </tbody>\n",
       "</table>\n",
       "</div>"
      ],
      "text/plain": [
       "                                DH        NO        SL\n",
       "pelvic_incidence         -0.366055 -0.353323  0.619896\n",
       "pelvic_tilt numeric      -0.007072 -0.326048  0.310581\n",
       "lumbar_lordosis_angle    -0.435507 -0.312492  0.636608\n",
       "sacral_slope             -0.464776 -0.210611  0.564446\n",
       "pelvic_radius            -0.053261  0.309875 -0.247755\n",
       "degree_spondylolisthesis -0.311164 -0.443682  0.661023"
      ]
     },
     "execution_count": 53,
     "metadata": {},
     "output_type": "execute_result"
    }
   ],
   "source": [
    "df_corr"
   ]
  },
  {
   "cell_type": "code",
   "execution_count": 54,
   "id": "creative-slope",
   "metadata": {},
   "outputs": [
    {
     "data": {
      "text/html": [
       "<div>\n",
       "<style scoped>\n",
       "    .dataframe tbody tr th:only-of-type {\n",
       "        vertical-align: middle;\n",
       "    }\n",
       "\n",
       "    .dataframe tbody tr th {\n",
       "        vertical-align: top;\n",
       "    }\n",
       "\n",
       "    .dataframe thead th {\n",
       "        text-align: right;\n",
       "    }\n",
       "</style>\n",
       "<table border=\"1\" class=\"dataframe\">\n",
       "  <thead>\n",
       "    <tr style=\"text-align: right;\">\n",
       "      <th></th>\n",
       "      <th>DH</th>\n",
       "      <th>NO</th>\n",
       "      <th>SL</th>\n",
       "    </tr>\n",
       "  </thead>\n",
       "  <tbody>\n",
       "    <tr>\n",
       "      <th>pelvic_incidence</th>\n",
       "      <td>NaN</td>\n",
       "      <td>NaN</td>\n",
       "      <td>0.619896</td>\n",
       "    </tr>\n",
       "    <tr>\n",
       "      <th>pelvic_tilt numeric</th>\n",
       "      <td>NaN</td>\n",
       "      <td>NaN</td>\n",
       "      <td>NaN</td>\n",
       "    </tr>\n",
       "    <tr>\n",
       "      <th>lumbar_lordosis_angle</th>\n",
       "      <td>NaN</td>\n",
       "      <td>NaN</td>\n",
       "      <td>0.636608</td>\n",
       "    </tr>\n",
       "    <tr>\n",
       "      <th>sacral_slope</th>\n",
       "      <td>NaN</td>\n",
       "      <td>NaN</td>\n",
       "      <td>0.564446</td>\n",
       "    </tr>\n",
       "    <tr>\n",
       "      <th>pelvic_radius</th>\n",
       "      <td>NaN</td>\n",
       "      <td>NaN</td>\n",
       "      <td>NaN</td>\n",
       "    </tr>\n",
       "    <tr>\n",
       "      <th>degree_spondylolisthesis</th>\n",
       "      <td>NaN</td>\n",
       "      <td>NaN</td>\n",
       "      <td>0.661023</td>\n",
       "    </tr>\n",
       "  </tbody>\n",
       "</table>\n",
       "</div>"
      ],
      "text/plain": [
       "                          DH  NO        SL\n",
       "pelvic_incidence         NaN NaN  0.619896\n",
       "pelvic_tilt numeric      NaN NaN       NaN\n",
       "lumbar_lordosis_angle    NaN NaN  0.636608\n",
       "sacral_slope             NaN NaN  0.564446\n",
       "pelvic_radius            NaN NaN       NaN\n",
       "degree_spondylolisthesis NaN NaN  0.661023"
      ]
     },
     "execution_count": 54,
     "metadata": {},
     "output_type": "execute_result"
    }
   ],
   "source": [
    "golden_features =  df_corr[abs(df_corr) > 0.5]\n",
    "golden_features "
   ]
  },
  {
   "cell_type": "code",
   "execution_count": 72,
   "id": "fitted-chase",
   "metadata": {},
   "outputs": [],
   "source": [
    "features_analysee = df.iloc[:,[0,1,2,3,4,5]].columns"
   ]
  },
  {
   "cell_type": "code",
   "execution_count": 84,
   "id": "equivalent-water",
   "metadata": {},
   "outputs": [
    {
     "data": {
      "image/png": "[encoded data removed]",
      "text/plain": [
       "<Figure size 1296x864 with 6 Axes>"
      ]
     },
     "metadata": {
      "needs_background": "light"
     },
     "output_type": "display_data"
    }
   ],
   "source": [
    "fig, ax = plt.subplots(round(len(features_analysee) / 3), 3, figsize = (18, 12))\n",
    "for i, ax in enumerate(fig.axes):\n",
    "    if i < len(features_analysee):\n",
    "        sns.boxplot(x=df.iloc[:,i], y='class', data=df, ax=ax)\n",
    "        \n",
    "        \n",
    "        \n",
    "    \n",
    "            "
   ]
  },
  {
   "cell_type": "code",
   "execution_count": 81,
   "id": "instructional-marketing",
   "metadata": {},
   "outputs": [
    {
     "data": {
      "text/plain": [
       "(310,)"
      ]
     },
     "execution_count": 81,
     "metadata": {},
     "output_type": "execute_result"
    }
   ],
   "source": [
    "df.iloc[:,1].shape"
   ]
  },
  {
   "cell_type": "code",
   "execution_count": 75,
   "id": "closing-promise",
   "metadata": {},
   "outputs": [
    {
     "data": {
      "text/html": [
       "<div>\n",
       "<style scoped>\n",
       "    .dataframe tbody tr th:only-of-type {\n",
       "        vertical-align: middle;\n",
       "    }\n",
       "\n",
       "    .dataframe tbody tr th {\n",
       "        vertical-align: top;\n",
       "    }\n",
       "\n",
       "    .dataframe thead th {\n",
       "        text-align: right;\n",
       "    }\n",
       "</style>\n",
       "<table border=\"1\" class=\"dataframe\">\n",
       "  <thead>\n",
       "    <tr style=\"text-align: right;\">\n",
       "      <th></th>\n",
       "      <th>pelvic_incidence</th>\n",
       "      <th>pelvic_tilt numeric</th>\n",
       "      <th>lumbar_lordosis_angle</th>\n",
       "      <th>sacral_slope</th>\n",
       "      <th>pelvic_radius</th>\n",
       "      <th>degree_spondylolisthesis</th>\n",
       "    </tr>\n",
       "  </thead>\n",
       "  <tbody>\n",
       "    <tr>\n",
       "      <th>0</th>\n",
       "      <td>63.03</td>\n",
       "      <td>22.55</td>\n",
       "      <td>39.61</td>\n",
       "      <td>40.48</td>\n",
       "      <td>98.67</td>\n",
       "      <td>-0.25</td>\n",
       "    </tr>\n",
       "    <tr>\n",
       "      <th>1</th>\n",
       "      <td>39.06</td>\n",
       "      <td>10.06</td>\n",
       "      <td>25.02</td>\n",
       "      <td>29.00</td>\n",
       "      <td>114.41</td>\n",
       "      <td>4.56</td>\n",
       "    </tr>\n",
       "    <tr>\n",
       "      <th>2</th>\n",
       "      <td>68.83</td>\n",
       "      <td>22.22</td>\n",
       "      <td>50.09</td>\n",
       "      <td>46.61</td>\n",
       "      <td>105.99</td>\n",
       "      <td>-3.53</td>\n",
       "    </tr>\n",
       "    <tr>\n",
       "      <th>3</th>\n",
       "      <td>69.30</td>\n",
       "      <td>24.65</td>\n",
       "      <td>44.31</td>\n",
       "      <td>44.64</td>\n",
       "      <td>101.87</td>\n",
       "      <td>11.21</td>\n",
       "    </tr>\n",
       "    <tr>\n",
       "      <th>4</th>\n",
       "      <td>49.71</td>\n",
       "      <td>9.65</td>\n",
       "      <td>28.32</td>\n",
       "      <td>40.06</td>\n",
       "      <td>108.17</td>\n",
       "      <td>7.92</td>\n",
       "    </tr>\n",
       "    <tr>\n",
       "      <th>...</th>\n",
       "      <td>...</td>\n",
       "      <td>...</td>\n",
       "      <td>...</td>\n",
       "      <td>...</td>\n",
       "      <td>...</td>\n",
       "      <td>...</td>\n",
       "    </tr>\n",
       "    <tr>\n",
       "      <th>305</th>\n",
       "      <td>47.90</td>\n",
       "      <td>13.62</td>\n",
       "      <td>36.00</td>\n",
       "      <td>34.29</td>\n",
       "      <td>117.45</td>\n",
       "      <td>-4.25</td>\n",
       "    </tr>\n",
       "    <tr>\n",
       "      <th>306</th>\n",
       "      <td>53.94</td>\n",
       "      <td>20.72</td>\n",
       "      <td>29.22</td>\n",
       "      <td>33.22</td>\n",
       "      <td>114.37</td>\n",
       "      <td>-0.42</td>\n",
       "    </tr>\n",
       "    <tr>\n",
       "      <th>307</th>\n",
       "      <td>61.45</td>\n",
       "      <td>22.69</td>\n",
       "      <td>46.17</td>\n",
       "      <td>38.75</td>\n",
       "      <td>125.67</td>\n",
       "      <td>-2.71</td>\n",
       "    </tr>\n",
       "    <tr>\n",
       "      <th>308</th>\n",
       "      <td>45.25</td>\n",
       "      <td>8.69</td>\n",
       "      <td>41.58</td>\n",
       "      <td>36.56</td>\n",
       "      <td>118.55</td>\n",
       "      <td>0.21</td>\n",
       "    </tr>\n",
       "    <tr>\n",
       "      <th>309</th>\n",
       "      <td>33.84</td>\n",
       "      <td>5.07</td>\n",
       "      <td>36.64</td>\n",
       "      <td>28.77</td>\n",
       "      <td>123.95</td>\n",
       "      <td>-0.20</td>\n",
       "    </tr>\n",
       "  </tbody>\n",
       "</table>\n",
       "<p>310 rows × 6 columns</p>\n",
       "</div>"
      ],
      "text/plain": [
       "     pelvic_incidence  pelvic_tilt numeric  lumbar_lordosis_angle  \\\n",
       "0               63.03                22.55                  39.61   \n",
       "1               39.06                10.06                  25.02   \n",
       "2               68.83                22.22                  50.09   \n",
       "3               69.30                24.65                  44.31   \n",
       "4               49.71                 9.65                  28.32   \n",
       "..                ...                  ...                    ...   \n",
       "305             47.90                13.62                  36.00   \n",
       "306             53.94                20.72                  29.22   \n",
       "307             61.45                22.69                  46.17   \n",
       "308             45.25                 8.69                  41.58   \n",
       "309             33.84                 5.07                  36.64   \n",
       "\n",
       "     sacral_slope  pelvic_radius  degree_spondylolisthesis  \n",
       "0           40.48          98.67                     -0.25  \n",
       "1           29.00         114.41                      4.56  \n",
       "2           46.61         105.99                     -3.53  \n",
       "3           44.64         101.87                     11.21  \n",
       "4           40.06         108.17                      7.92  \n",
       "..            ...            ...                       ...  \n",
       "305         34.29         117.45                     -4.25  \n",
       "306         33.22         114.37                     -0.42  \n",
       "307         38.75         125.67                     -2.71  \n",
       "308         36.56         118.55                      0.21  \n",
       "309         28.77         123.95                     -0.20  \n",
       "\n",
       "[310 rows x 6 columns]"
      ]
     },
     "execution_count": 75,
     "metadata": {},
     "output_type": "execute_result"
    }
   ],
   "source": [
    "df[features_analysee]"
   ]
  },
  {
   "cell_type": "code",
   "execution_count": 68,
   "id": "herbal-focus",
   "metadata": {},
   "outputs": [],
   "source": [
    "from sklearn.preprocessing import LabelEncoder \n",
    "labelencoder= LabelEncoder() \n",
    "df['class'] = labelencoder.fit_transform(df['class']) "
   ]
  },
  {
   "cell_type": "code",
   "execution_count": 71,
   "id": "indian-liberia",
   "metadata": {},
   "outputs": [
    {
     "data": {
      "text/plain": [
       "<AxesSubplot:>"
      ]
     },
     "execution_count": 71,
     "metadata": {},
     "output_type": "execute_result"
    },
    {
     "data": {
      "image/png": "[encoded data removed]",
      "text/plain": [
       "<Figure size 792x648 with 2 Axes>"
      ]
     },
     "metadata": {
      "needs_background": "light"
     },
     "output_type": "display_data"
    }
   ],
   "source": [
    "corr = df.corr()\n",
    "mask = np.triu(np.ones_like(corr, dtype=bool))\n",
    "f, ax = plt.subplots(figsize=(11, 9))\n",
    "cmap = sns.diverging_palette(230, 20, as_cmap=True)\n",
    "sns.heatmap(corr, mask=mask, cmap=cmap, vmax=.3, center=0,\n",
    "            square=True, linewidths=.5, cbar_kws={\"shrink\": .5})"
   ]
  },
  {
   "cell_type": "code",
   "execution_count": 145,
   "id": "demonstrated-account",
   "metadata": {},
   "outputs": [],
   "source": [
    "from sklearn.tree import DecisionTreeClassifier\n",
    "from sklearn.preprocessing import StandardScaler\n",
    "from sklearn.model_selection import GridSearchCV, train_test_split\n",
    "from sklearn import metrics \n"
   ]
  },
  {
   "cell_type": "code",
   "execution_count": 201,
   "id": "tender-revelation",
   "metadata": {},
   "outputs": [],
   "source": [
    "X = df.iloc[:,[0,1,2,3,4,5]]\n",
    "y = df.iloc[:,[6]]"
   ]
  },
  {
   "cell_type": "code",
   "execution_count": 160,
   "id": "altered-cream",
   "metadata": {},
   "outputs": [],
   "source": [
    "trans = StandardScaler()\n",
    "X = trans.fit_transform(X)"
   ]
  },
  {
   "cell_type": "code",
   "execution_count": 202,
   "id": "chemical-vienna",
   "metadata": {},
   "outputs": [],
   "source": [
    "X_train, X_test, y_train, y_test = train_test_split( X, y, test_size=0.33, random_state=0)"
   ]
  },
  {
   "cell_type": "code",
   "execution_count": 203,
   "id": "interior-newport",
   "metadata": {},
   "outputs": [],
   "source": [
    "clf= DecisionTreeClassifier(criterion= 'entropy',\n",
    "                             max_depth= 3,\n",
    "                             min_samples_leaf= 4,\n",
    "                             min_samples_split= 2)\n",
    "def trainning(X_train, X_test, y_train, y_test,i):\n",
    "    global clf\n",
    "    clf = clf.fit(X_train, y_train)\n",
    "    y_pred = clf.predict(X_test)\n",
    "    return print(\"Accuracy:\",metrics.accuracy_score(y_test, y_pred),'__', 'size set-> {}%'.format(i))\n"
   ]
  },
  {
   "cell_type": "code",
   "execution_count": 204,
   "id": "billion-sierra",
   "metadata": {},
   "outputs": [],
   "source": [
    "def sizedata(X,y):\n",
    "    test_size = [0.25,0.33,0.50,0.75]\n",
    "    for i in test_size:\n",
    "        X_train, X_test, y_train, y_test = train_test_split( X, y, test_size=i, random_state=0)\n",
    "        \n",
    "        trainning(X_train, X_test, y_train, y_test,i)\n",
    "    return "
   ]
  },
  {
   "cell_type": "code",
   "execution_count": 205,
   "id": "signal-design",
   "metadata": {},
   "outputs": [
    {
     "name": "stdout",
     "output_type": "stream",
     "text": [
      "Accuracy: 0.782051282051282 __ size set-> 0.25%\n",
      "Accuracy: 0.7864077669902912 __ size set-> 0.33%\n",
      "Accuracy: 0.7935483870967742 __ size set-> 0.5%\n",
      "Accuracy: 0.7339055793991416 __ size set-> 0.75%\n"
     ]
    }
   ],
   "source": [
    "sizedata(X,y)"
   ]
  },
  {
   "cell_type": "code",
   "execution_count": 156,
   "id": "naughty-suggestion",
   "metadata": {},
   "outputs": [],
   "source": [
    "clf = clf.fit(X_train, y_train)"
   ]
  },
  {
   "cell_type": "code",
   "execution_count": 157,
   "id": "endangered-tumor",
   "metadata": {},
   "outputs": [],
   "source": [
    "y_pred = clf.predict(X_test)"
   ]
  },
  {
   "cell_type": "code",
   "execution_count": 158,
   "id": "needed-plenty",
   "metadata": {},
   "outputs": [
    {
     "name": "stdout",
     "output_type": "stream",
     "text": [
      "Accuracy: 0.7864077669902912\n"
     ]
    }
   ],
   "source": [
    "print(\"Accuracy:\",metrics.accuracy_score(y_test, y_pred))"
   ]
  },
  {
   "cell_type": "code",
   "execution_count": 136,
   "id": "simplified-incidence",
   "metadata": {},
   "outputs": [],
   "source": [
    "param_dict = {\n",
    "    \"criterion\" : ['gini', 'entropy'],\n",
    "    'max_depth' : range(1,10),\n",
    "    \"min_samples_split\": range(1,10),\n",
    "    \"min_samples_leaf\": range(1,5)\n",
    "}"
   ]
  },
  {
   "cell_type": "code",
   "execution_count": 137,
   "id": "color-windows",
   "metadata": {},
   "outputs": [],
   "source": [
    "clf= DecisionTreeClassifier()\n",
    "grid= GridSearchCV(clf,\n",
    "                  param_grid=param_dict,\n",
    "                  cv=10,\n",
    "                  verbose=1,\n",
    "                  n_jobs=-1)"
   ]
  },
  {
   "cell_type": "code",
   "execution_count": 142,
   "id": "inner-launch",
   "metadata": {},
   "outputs": [
    {
     "name": "stdout",
     "output_type": "stream",
     "text": [
      "Fitting 10 folds for each of 648 candidates, totalling 6480 fits\n"
     ]
    },
    {
     "name": "stderr",
     "output_type": "stream",
     "text": [
      "c:\\users\\hramo\\appdata\\local\\programs\\python\\python39\\lib\\site-packages\\sklearn\\model_selection\\_search.py:918: UserWarning: One or more of the test scores are non-finite: [       nan 0.79214286 0.79214286 0.79214286 0.79214286 0.79214286\n",
      " 0.79214286 0.79214286 0.79214286        nan 0.79214286 0.79214286\n",
      " 0.79214286 0.79214286 0.79214286 0.79214286 0.79214286 0.79214286\n",
      "        nan 0.79214286 0.79214286 0.79214286 0.79214286 0.79214286\n",
      " 0.79214286 0.79214286 0.79214286        nan 0.79214286 0.79214286\n",
      " 0.79214286 0.79214286 0.79214286 0.79214286 0.79214286 0.79214286\n",
      "        nan 0.84047619 0.84047619 0.84047619 0.84047619 0.84047619\n",
      " 0.84047619 0.84047619 0.84047619        nan 0.84047619 0.84047619\n",
      " 0.84047619 0.84047619 0.84047619 0.84047619 0.84047619 0.84047619\n",
      "        nan 0.84047619 0.84047619 0.84047619 0.84047619 0.84047619\n",
      " 0.84047619 0.84047619 0.84047619        nan 0.84047619 0.84047619\n",
      " 0.84047619 0.84047619 0.84047619 0.84047619 0.84047619 0.84047619\n",
      "        nan 0.845      0.845      0.845      0.845      0.845\n",
      " 0.845      0.845      0.845             nan 0.845      0.845\n",
      " 0.845      0.845      0.845      0.845      0.845      0.845\n",
      "        nan 0.845      0.845      0.845      0.845      0.845\n",
      " 0.845      0.845      0.845             nan 0.85452381 0.85452381\n",
      " 0.85452381 0.85452381 0.85452381 0.85452381 0.85452381 0.85452381\n",
      "        nan 0.8502381  0.8452381  0.84547619 0.84547619 0.84547619\n",
      " 0.8452381  0.8597619  0.8597619         nan 0.84047619 0.84047619\n",
      " 0.8402381  0.8402381  0.84047619 0.8402381  0.8547619  0.8547619\n",
      "        nan 0.8497619  0.8452381  0.8497619  0.8402381  0.85\n",
      " 0.845      0.8497619  0.8497619         nan 0.8497619  0.845\n",
      " 0.845      0.845      0.8497619  0.8497619  0.8497619  0.845\n",
      "        nan 0.80714286 0.81190476 0.79738095 0.80690476 0.81166667\n",
      " 0.82142857 0.82595238 0.82595238        nan 0.79738095 0.79738095\n",
      " 0.80214286 0.80190476 0.80214286 0.80214286 0.80666667 0.80666667\n",
      "        nan 0.80214286 0.79738095 0.80690476 0.79714286 0.79714286\n",
      " 0.79714286 0.81642857 0.81142857        nan 0.79238095 0.79714286\n",
      " 0.80190476 0.79714286 0.79714286 0.80190476 0.79238095 0.79714286\n",
      "        nan 0.82666667 0.82190476 0.80738095 0.81214286 0.82166667\n",
      " 0.81690476 0.83595238 0.84095238        nan 0.82666667 0.80738095\n",
      " 0.82642857 0.82642857 0.81714286 0.82190476 0.83142857 0.82666667\n",
      "        nan 0.82642857 0.82619048 0.82166667 0.81666667 0.82166667\n",
      " 0.81690476 0.82642857 0.82642857        nan 0.81190476 0.81666667\n",
      " 0.82142857 0.81190476 0.81190476 0.81190476 0.81666667 0.81190476\n",
      "        nan 0.81238095 0.83142857 0.82166667 0.79785714 0.81714286\n",
      " 0.82666667 0.84119048 0.84571429        nan 0.82166667 0.82642857\n",
      " 0.80238095 0.80238095 0.82142857 0.82666667 0.82666667 0.82666667\n",
      "        nan 0.81166667 0.79738095 0.80690476 0.80714286 0.80238095\n",
      " 0.80738095 0.80714286 0.81190476        nan 0.81666667 0.80714286\n",
      " 0.80238095 0.80714286 0.80714286 0.81190476 0.80714286 0.80714286\n",
      "        nan 0.82642857 0.82666667 0.82166667 0.80738095 0.81714286\n",
      " 0.81738095 0.84595238 0.84571429        nan 0.82619048 0.80738095\n",
      " 0.81214286 0.81666667 0.82642857 0.81714286 0.82666667 0.83142857\n",
      "        nan 0.81690476 0.80190476 0.80714286 0.79785714 0.81214286\n",
      " 0.81690476 0.81690476 0.81214286        nan 0.80238095 0.81190476\n",
      " 0.80714286 0.81190476 0.80714286 0.80714286 0.81190476 0.80714286\n",
      "        nan 0.81714286 0.82642857 0.80761905 0.80738095 0.82666667\n",
      " 0.83166667 0.83619048 0.83595238        nan 0.80714286 0.81690476\n",
      " 0.81190476 0.81166667 0.81214286 0.81714286 0.83619048 0.82166667\n",
      "        nan 0.78285714 0.80690476 0.79761905 0.79761905 0.80214286\n",
      " 0.80238095 0.81214286 0.81190476        nan 0.80714286 0.81190476\n",
      " 0.80238095 0.80714286 0.81666667 0.81190476 0.80714286 0.80714286\n",
      "        nan 0.79214286 0.79214286 0.79214286 0.79214286 0.79214286\n",
      " 0.79214286 0.79214286 0.79214286        nan 0.79214286 0.79214286\n",
      " 0.79214286 0.79214286 0.79214286 0.79214286 0.79214286 0.79214286\n",
      "        nan 0.79214286 0.79214286 0.79214286 0.79214286 0.79214286\n",
      " 0.79214286 0.79214286 0.79214286        nan 0.79214286 0.79214286\n",
      " 0.79214286 0.79214286 0.79214286 0.79214286 0.79214286 0.79214286\n",
      "        nan 0.83547619 0.83547619 0.83547619 0.83547619 0.83547619\n",
      " 0.83547619 0.83547619 0.83547619        nan 0.83547619 0.83547619\n",
      " 0.83547619 0.83547619 0.83547619 0.83547619 0.83547619 0.83547619\n",
      "        nan 0.83547619 0.83547619 0.83547619 0.83547619 0.83547619\n",
      " 0.83547619 0.83547619 0.83547619        nan 0.83547619 0.83547619\n",
      " 0.83547619 0.83547619 0.83547619 0.83547619 0.83547619 0.83547619\n",
      "        nan 0.855      0.855      0.855      0.855      0.855\n",
      " 0.855      0.855      0.855             nan 0.85       0.85\n",
      " 0.85       0.855      0.855      0.85       0.855      0.85\n",
      "        nan 0.855      0.855      0.855      0.855      0.855\n",
      " 0.855      0.855      0.855             nan 0.86452381 0.86452381\n",
      " 0.86452381 0.86452381 0.86452381 0.86452381 0.86452381 0.86452381\n",
      "        nan 0.855      0.855      0.84547619 0.84547619 0.855\n",
      " 0.855      0.8502381  0.8502381         nan 0.84071429 0.84071429\n",
      " 0.84071429 0.83571429 0.84071429 0.84071429 0.84547619 0.84547619\n",
      "        nan 0.84071429 0.84071429 0.84547619 0.84547619 0.84547619\n",
      " 0.84547619 0.8502381  0.8502381         nan 0.86       0.86\n",
      " 0.855      0.86       0.8552381  0.855      0.86       0.8502381\n",
      "        nan 0.81214286 0.81690476 0.82166667 0.82166667 0.81690476\n",
      " 0.83119048 0.83119048 0.83119048        nan 0.81190476 0.80714286\n",
      " 0.81690476 0.82166667 0.81214286 0.81214286 0.81666667 0.82642857\n",
      "        nan 0.80714286 0.81190476 0.81190476 0.80714286 0.80714286\n",
      " 0.80714286 0.81666667 0.81666667        nan 0.80190476 0.81166667\n",
      " 0.81142857 0.80666667 0.80666667 0.81142857 0.80666667 0.80690476\n",
      "        nan 0.81666667 0.82619048 0.82619048 0.81666667 0.82642857\n",
      " 0.82642857 0.82142857 0.82142857        nan 0.81190476 0.81166667\n",
      " 0.82142857 0.82142857 0.81666667 0.81690476 0.81666667 0.81642857\n",
      "        nan 0.81690476 0.82166667 0.82166667 0.82642857 0.83119048\n",
      " 0.81214286 0.81666667 0.82619048        nan 0.83571429 0.83095238\n",
      " 0.83119048 0.82642857 0.83571429 0.83095238 0.82619048 0.82642857\n",
      "        nan 0.81642857 0.81642857 0.81642857 0.81642857 0.82142857\n",
      " 0.81190476 0.82119048 0.82119048        nan 0.81642857 0.81166667\n",
      " 0.80666667 0.81642857 0.82142857 0.81190476 0.81142857 0.81642857\n",
      "        nan 0.81166667 0.81142857 0.80666667 0.81166667 0.81142857\n",
      " 0.81142857 0.81119048 0.81142857        nan 0.81166667 0.82119048\n",
      " 0.81166667 0.81642857 0.83095238 0.81642857 0.81690476 0.81666667\n",
      "        nan 0.80190476 0.79261905 0.80690476 0.80666667 0.81642857\n",
      " 0.81666667 0.82142857 0.82119048        nan 0.81642857 0.79690476\n",
      " 0.80690476 0.80666667 0.80214286 0.80214286 0.81166667 0.82142857\n",
      "        nan 0.81642857 0.81166667 0.81666667 0.82142857 0.81166667\n",
      " 0.80714286 0.80666667 0.80690476        nan 0.81666667 0.82119048\n",
      " 0.82142857 0.82142857 0.82142857 0.83595238 0.82142857 0.81642857\n",
      "        nan 0.81142857 0.80166667 0.80190476 0.80666667 0.82119048\n",
      " 0.81166667 0.82142857 0.82619048        nan 0.80166667 0.79666667\n",
      " 0.81142857 0.80166667 0.80690476 0.79714286 0.81190476 0.80690476\n",
      "        nan 0.81642857 0.82095238 0.82095238 0.82595238 0.81142857\n",
      " 0.82142857 0.81619048 0.80666667        nan 0.83119048 0.82142857\n",
      " 0.81642857 0.82142857 0.84071429 0.82142857 0.80690476 0.80690476]\n",
      "  warnings.warn(\n"
     ]
    },
    {
     "data": {
      "text/plain": [
       "GridSearchCV(cv=10, estimator=DecisionTreeClassifier(), n_jobs=-1,\n",
       "             param_grid={'criterion': ['gini', 'entropy'],\n",
       "                         'max_depth': range(1, 10),\n",
       "                         'min_samples_leaf': range(1, 5),\n",
       "                         'min_samples_split': range(1, 10)},\n",
       "             verbose=1)"
      ]
     },
     "execution_count": 142,
     "metadata": {},
     "output_type": "execute_result"
    }
   ],
   "source": [
    "grid.fit(X_train, y_train)"
   ]
  },
  {
   "cell_type": "code",
   "execution_count": 139,
   "id": "latter-begin",
   "metadata": {},
   "outputs": [
    {
     "data": {
      "text/plain": [
       "{'criterion': 'entropy',\n",
       " 'max_depth': 3,\n",
       " 'min_samples_leaf': 4,\n",
       " 'min_samples_split': 2}"
      ]
     },
     "execution_count": 139,
     "metadata": {},
     "output_type": "execute_result"
    }
   ],
   "source": [
    "grid.best_params_"
   ]
  },
  {
   "cell_type": "code",
   "execution_count": 133,
   "id": "front-distinction",
   "metadata": {},
   "outputs": [
    {
     "data": {
      "text/plain": [
       "DecisionTreeClassifier(criterion='entropy', max_depth=3, min_samples_leaf=4)"
      ]
     },
     "execution_count": 133,
     "metadata": {},
     "output_type": "execute_result"
    }
   ],
   "source": [
    "grid.best_estimator_"
   ]
  },
  {
   "cell_type": "code",
   "execution_count": 134,
   "id": "black-implementation",
   "metadata": {},
   "outputs": [
    {
     "data": {
      "text/plain": [
       "0.8645238095238094"
      ]
     },
     "execution_count": 134,
     "metadata": {},
     "output_type": "execute_result"
    }
   ],
   "source": [
    "grid.best_score_"
   ]
  },
  {
   "cell_type": "code",
   "execution_count": null,
   "id": "smooth-blink",
   "metadata": {},
   "outputs": [],
   "source": []
  }
 ],
 "metadata": {
  "kernelspec": {
   "display_name": "Python 3",
   "language": "python",
   "name": "python3"
  },
  "language_info": {
   "codemirror_mode": {
    "name": "ipython",
    "version": 3
   },
   "file_extension": ".py",
   "mimetype": "text/x-python",
   "name": "python",
   "nbconvert_exporter": "python",
   "pygments_lexer": "ipython3",
   "version": "3.9.1"
  }
 },
 "nbformat": 4,
 "nbformat_minor": 5
}
